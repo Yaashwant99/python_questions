{
 "cells": [
  {
   "cell_type": "code",
   "execution_count": null,
   "id": "4463cd31",
   "metadata": {},
   "outputs": [],
   "source": [
    "# List"
   ]
  },
  {
   "cell_type": "code",
   "execution_count": null,
   "id": "9d67902f",
   "metadata": {},
   "outputs": [],
   "source": [
    "# Q1"
   ]
  },
  {
   "cell_type": "code",
   "execution_count": 2,
   "id": "164c844f",
   "metadata": {},
   "outputs": [
    {
     "name": "stdout",
     "output_type": "stream",
     "text": [
      "96\n",
      "22\n"
     ]
    }
   ],
   "source": [
    "num = [22,54,96,74]\n",
    "print(max(num))\n",
    "print(min(num))"
   ]
  },
  {
   "cell_type": "code",
   "execution_count": 3,
   "id": "20c4c6c9",
   "metadata": {},
   "outputs": [],
   "source": [
    "# Q2"
   ]
  },
  {
   "cell_type": "code",
   "execution_count": 5,
   "id": "271fb3da",
   "metadata": {},
   "outputs": [
    {
     "name": "stdout",
     "output_type": "stream",
     "text": [
      "[24]\n",
      "[24, 54]\n",
      "[24, 54, 82]\n",
      "[24, 54, 82, 10]\n"
     ]
    }
   ],
   "source": [
    "number = [24,21,54,75,93,61,82,10]\n",
    "even = []\n",
    "for i in number:\n",
    "    if i%2==0:\n",
    "        even.append(i)\n",
    "        print(even)"
   ]
  },
  {
   "cell_type": "code",
   "execution_count": 6,
   "id": "a4dc4a77",
   "metadata": {},
   "outputs": [],
   "source": [
    "# Q3"
   ]
  },
  {
   "cell_type": "code",
   "execution_count": 16,
   "id": "bb7fb7bb",
   "metadata": {},
   "outputs": [
    {
     "name": "stdout",
     "output_type": "stream",
     "text": [
      "[85, 64, 52, 32, 21]\n"
     ]
    }
   ],
   "source": [
    "b = [21,32,52,64,85]\n",
    "b.reverse()\n",
    "print(b)"
   ]
  },
  {
   "cell_type": "code",
   "execution_count": null,
   "id": "085c76c5",
   "metadata": {},
   "outputs": [],
   "source": []
  },
  {
   "cell_type": "code",
   "execution_count": 17,
   "id": "28854e69",
   "metadata": {},
   "outputs": [],
   "source": [
    "# Q4"
   ]
  },
  {
   "cell_type": "code",
   "execution_count": 18,
   "id": "6013a750",
   "metadata": {},
   "outputs": [
    {
     "name": "stdout",
     "output_type": "stream",
     "text": [
      "[32, 35, 44, 14, 80, 54, 63]\n"
     ]
    }
   ],
   "source": [
    "c = [35,54,63,14,32,63,44,80,35]\n",
    "new = list(set(c))\n",
    "print(new)"
   ]
  },
  {
   "cell_type": "code",
   "execution_count": null,
   "id": "3af111bb",
   "metadata": {},
   "outputs": [],
   "source": []
  },
  {
   "cell_type": "code",
   "execution_count": 19,
   "id": "70146baf",
   "metadata": {},
   "outputs": [],
   "source": [
    "# Tuples"
   ]
  },
  {
   "cell_type": "code",
   "execution_count": 20,
   "id": "9b623de7",
   "metadata": {},
   "outputs": [],
   "source": [
    "# Q1"
   ]
  },
  {
   "cell_type": "code",
   "execution_count": 42,
   "id": "d6c1ffd6",
   "metadata": {},
   "outputs": [
    {
     "data": {
      "text/plain": [
       "'India'"
      ]
     },
     "execution_count": 42,
     "metadata": {},
     "output_type": "execute_result"
    }
   ],
   "source": [
    "s = ('America','Canada','India','China','Australia',)\n",
    "s[2]"
   ]
  },
  {
   "cell_type": "code",
   "execution_count": 28,
   "id": "a9b1b82a",
   "metadata": {},
   "outputs": [],
   "source": [
    "# Q2"
   ]
  },
  {
   "cell_type": "code",
   "execution_count": 30,
   "id": "e9a41294",
   "metadata": {},
   "outputs": [
    {
     "name": "stdout",
     "output_type": "stream",
     "text": [
      "Rohit\n",
      "85\n"
     ]
    }
   ],
   "source": [
    "score = (\"Rohit\", 85,)\n",
    "(g,h) = score\n",
    "print(g)\n",
    "print(h)"
   ]
  },
  {
   "cell_type": "code",
   "execution_count": 31,
   "id": "3bca5955",
   "metadata": {},
   "outputs": [],
   "source": [
    "# Q3"
   ]
  },
  {
   "cell_type": "code",
   "execution_count": 33,
   "id": "8b53ab16",
   "metadata": {},
   "outputs": [
    {
     "name": "stdout",
     "output_type": "stream",
     "text": [
      "(32, 54, 63, 96, 100, 30)\n"
     ]
    }
   ],
   "source": [
    "b = (32,54,63,)\n",
    "v = (96,100,30,)\n",
    "n = b+v\n",
    "print(n)"
   ]
  },
  {
   "cell_type": "code",
   "execution_count": 34,
   "id": "4297230a",
   "metadata": {},
   "outputs": [],
   "source": [
    "# Q4"
   ]
  },
  {
   "cell_type": "markdown",
   "id": "dbf407e3",
   "metadata": {},
   "source": [
    "# Tuples are immutable in nature. Once the elements are stored in tuple, they cannot be changed or modified in future."
   ]
  },
  {
   "cell_type": "code",
   "execution_count": 35,
   "id": "a741b266",
   "metadata": {},
   "outputs": [],
   "source": [
    "tuples = (47,3,12)      # Example"
   ]
  },
  {
   "cell_type": "code",
   "execution_count": 36,
   "id": "c9dd6116",
   "metadata": {},
   "outputs": [
    {
     "ename": "TypeError",
     "evalue": "'tuple' object does not support item assignment",
     "output_type": "error",
     "traceback": [
      "\u001b[1;31m---------------------------------------------------------------------------\u001b[0m",
      "\u001b[1;31mTypeError\u001b[0m                                 Traceback (most recent call last)",
      "Cell \u001b[1;32mIn[36], line 1\u001b[0m\n\u001b[1;32m----> 1\u001b[0m tuples[\u001b[38;5;241m1\u001b[39m] \u001b[38;5;241m=\u001b[39m \u001b[38;5;241m12\u001b[39m\n",
      "\u001b[1;31mTypeError\u001b[0m: 'tuple' object does not support item assignment"
     ]
    }
   ],
   "source": [
    "tuples[1] = 12"
   ]
  },
  {
   "cell_type": "code",
   "execution_count": null,
   "id": "7a811ef4",
   "metadata": {},
   "outputs": [],
   "source": []
  },
  {
   "cell_type": "code",
   "execution_count": null,
   "id": "3ce7fb62",
   "metadata": {},
   "outputs": [],
   "source": [
    "# Q5"
   ]
  },
  {
   "cell_type": "code",
   "execution_count": 40,
   "id": "4f05a92c",
   "metadata": {},
   "outputs": [
    {
     "name": "stdout",
     "output_type": "stream",
     "text": [
      "(7, 10)\n"
     ]
    }
   ],
   "source": [
    "num1 = 2\n",
    "num2 = 5\n",
    "z = (num1+num2, num1*num2)\n",
    "print(z)"
   ]
  },
  {
   "cell_type": "code",
   "execution_count": 41,
   "id": "b327a2cc",
   "metadata": {},
   "outputs": [
    {
     "data": {
      "text/plain": [
       "tuple"
      ]
     },
     "execution_count": 41,
     "metadata": {},
     "output_type": "execute_result"
    }
   ],
   "source": [
    "type(z)"
   ]
  },
  {
   "cell_type": "code",
   "execution_count": null,
   "id": "e829a380",
   "metadata": {},
   "outputs": [],
   "source": []
  },
  {
   "cell_type": "code",
   "execution_count": null,
   "id": "a8969dfa",
   "metadata": {},
   "outputs": [],
   "source": []
  }
 ],
 "metadata": {
  "kernelspec": {
   "display_name": "Python 3 (ipykernel)",
   "language": "python",
   "name": "python3"
  },
  "language_info": {
   "codemirror_mode": {
    "name": "ipython",
    "version": 3
   },
   "file_extension": ".py",
   "mimetype": "text/x-python",
   "name": "python",
   "nbconvert_exporter": "python",
   "pygments_lexer": "ipython3",
   "version": "3.11.3"
  }
 },
 "nbformat": 4,
 "nbformat_minor": 5
}
